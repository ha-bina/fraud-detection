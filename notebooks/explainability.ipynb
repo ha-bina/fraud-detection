{
 "cells": [
  {
   "cell_type": "code",
   "execution_count": null,
   "id": "b1ee3f67",
   "metadata": {},
   "outputs": [],
   "source": [
    "# Cell 1: Setup\n",
    "import shap\n",
    "import pandas as pd\n",
    "import matplotlib.pyplot as plt\n",
    "from xgboost import XGBClassifier\n",
    "from sklearn.model_selection import train_test_split\n",
    "from IPython.display import display, HTML\n",
    "\n",
    "shap.initjs()  # Initialize JS for SHAP plots\n",
    "\n",
    "# Cell 2: Load processed dataset\n",
    "data_path = \"../data/processed/fraud_data_processed.csv\"  # Adjust if needed\n",
    "target_column = \"class\"\n",
    "\n",
    "df = pd.read_csv(data_path)\n",
    "X = df.drop(columns=[target_column])\n",
    "y = df[target_column]\n",
    "\n",
    "X_train, X_test, y_train, y_test = train_test_split(\n",
    "    X, y, test_size=0.2, stratify=y, random_state=42\n",
    ")\n",
    "\n",
    "# Cell 3: Train best model (XGBoost)\n",
    "model = XGBClassifier(use_label_encoder=False, eval_metric=\"logloss\", random_state=42)\n",
    "model.fit(X_train, y_train)\n",
    "\n",
    "# Cell 4: Create SHAP Explainer\n",
    "explainer = shap.Explainer(model)\n",
    "sample = X_test.sample(n=100, random_state=42)  # For speed and clarity\n",
    "shap_values = explainer(sample)\n",
    "\n",
    "# Cell 5: Summary Plot (gl\n"
   ]
  }
 ],
 "metadata": {
  "language_info": {
   "name": "python"
  }
 },
 "nbformat": 4,
 "nbformat_minor": 5
}
