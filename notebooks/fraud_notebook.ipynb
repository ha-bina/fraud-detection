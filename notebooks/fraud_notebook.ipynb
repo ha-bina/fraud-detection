{
 "cells": [
  {
   "cell_type": "code",
   "execution_count": null,
   "id": "9587bf2e",
   "metadata": {
    "vscode": {
     "languageId": "plaintext"
    }
   },
   "outputs": [],
   "source": [
    "# pipeline.py\n",
    "\n",
    "import pandas as pd\n",
    "\n",
    "# Import preprocessing modules\n",
    "from src.preprocessing import (\n",
    "    missing_values,\n",
    "    data_cleaning,\n",
    "    feature_engineering,\n",
    "    data_transformation\n",
    ")\n",
    "\n",
    "def main():\n",
    "    # Step 1: Load raw data\n",
    "    fraud_df = pd.read_csv('data/raw/Fraud_Data.csv')\n",
    "    ip_df = pd.read_csv('data/raw/IpAddress_to_Country.csv')\n",
    "    \n",
    "    # Step 2: Handle missing values\n",
    "    fraud_df = missing_values.handle(fraud_df)\n",
    "    \n",
    "    # Step 3: Clean the data\n",
    "    fraud_df = data_cleaning.clean(fraud_df)\n",
    "    \n",
    "    # Step 4: Feature engineering (IP merge, time-based features, etc.)\n",
    "    fraud_df = feature_engineering.add_features(fraud_df, ip_df)\n",
    "    \n",
    "    # Step 5: Transform data (scaling, encoding, class balancing, split)\n",
    "    X_train, y_train, X_test, y_test = data_transformation.transform(fraud_df)\n",
    "    \n",
    "    # Optional: Save intermediate outputs\n",
    "    pd.DataFrame(X_train).to_csv('data/processed/X_train_resampled.csv', index=False)\n",
    "    pd.DataFrame(X_test).to_csv('data/processed/X_test.csv', index=False)\n",
    "    pd.Series(y_train).to_csv('data/processed/y_train.csv', index=False)\n",
    "    pd.Series(y_test).to_csv('data/processed/y_test.csv', index=False)\n",
    "\n",
    "    print(\"\\n✅ Task 1 completed successfully.\")\n",
    "\n",
    "if __name__ == '__main__':\n",
    "    main()\n"
   ]
  }
 ],
 "metadata": {
  "language_info": {
   "name": "python"
  }
 },
 "nbformat": 4,
 "nbformat_minor": 5
}
