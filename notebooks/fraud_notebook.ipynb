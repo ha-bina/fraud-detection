{
 "cells": [
  {
   "cell_type": "code",
   "execution_count": 14,
   "id": "9587bf2e",
   "metadata": {},
   "outputs": [
    {
     "name": "stdout",
     "output_type": "stream",
     "text": [
      "Requirement already satisfied: pandas in c:\\users\\yohanan\\fraud-detection\\.venv\\lib\\site-packages (2.3.1)\n",
      "Requirement already satisfied: scikit-learn in c:\\users\\yohanan\\fraud-detection\\.venv\\lib\\site-packages (1.7.1)\n",
      "Requirement already satisfied: numpy in c:\\users\\yohanan\\fraud-detection\\.venv\\lib\\site-packages (2.3.1)\n",
      "Requirement already satisfied: python-dateutil>=2.8.2 in c:\\users\\yohanan\\fraud-detection\\.venv\\lib\\site-packages (from pandas) (2.9.0.post0)\n",
      "Requirement already satisfied: pytz>=2020.1 in c:\\users\\yohanan\\fraud-detection\\.venv\\lib\\site-packages (from pandas) (2025.2)\n",
      "Requirement already satisfied: tzdata>=2022.7 in c:\\users\\yohanan\\fraud-detection\\.venv\\lib\\site-packages (from pandas) (2025.2)\n",
      "Requirement already satisfied: scipy>=1.8.0 in c:\\users\\yohanan\\fraud-detection\\.venv\\lib\\site-packages (from scikit-learn) (1.16.0)\n",
      "Requirement already satisfied: joblib>=1.2.0 in c:\\users\\yohanan\\fraud-detection\\.venv\\lib\\site-packages (from scikit-learn) (1.5.1)\n",
      "Requirement already satisfied: threadpoolctl>=3.1.0 in c:\\users\\yohanan\\fraud-detection\\.venv\\lib\\site-packages (from scikit-learn) (3.6.0)\n",
      "Requirement already satisfied: six>=1.5 in c:\\users\\yohanan\\fraud-detection\\.venv\\lib\\site-packages (from python-dateutil>=2.8.2->pandas) (1.17.0)\n",
      "Note: you may need to restart the kernel to use updated packages.\n"
     ]
    },
    {
     "ename": "ModuleNotFoundError",
     "evalue": "No module named 'src.utils.ip_converter'",
     "output_type": "error",
     "traceback": [
      "\u001b[31m---------------------------------------------------------------------------\u001b[39m",
      "\u001b[31mModuleNotFoundError\u001b[39m                       Traceback (most recent call last)",
      "\u001b[36mCell\u001b[39m\u001b[36m \u001b[39m\u001b[32mIn[14]\u001b[39m\u001b[32m, line 21\u001b[39m\n\u001b[32m     18\u001b[39m \u001b[38;5;28;01mif\u001b[39;00m src_path \u001b[38;5;129;01mnot\u001b[39;00m \u001b[38;5;129;01min\u001b[39;00m sys.path:\n\u001b[32m     19\u001b[39m     sys.path.insert(\u001b[32m0\u001b[39m, src_path)\n\u001b[32m---> \u001b[39m\u001b[32m21\u001b[39m \u001b[38;5;28;01mfrom\u001b[39;00m\u001b[38;5;250m \u001b[39m\u001b[34;01msrc\u001b[39;00m\u001b[34;01m.\u001b[39;00m\u001b[34;01mpreprocessing\u001b[39;00m\u001b[38;5;250m \u001b[39m\u001b[38;5;28;01mimport\u001b[39;00m (\n\u001b[32m     22\u001b[39m     missing_values,\n\u001b[32m     23\u001b[39m     data_cleaning,\n\u001b[32m     24\u001b[39m     feature_engineering,\n\u001b[32m     25\u001b[39m     data_transformation\n\u001b[32m     26\u001b[39m )\n\u001b[32m     27\u001b[39m \u001b[38;5;28;01mdef\u001b[39;00m\u001b[38;5;250m \u001b[39m\u001b[34mmain\u001b[39m():\n\u001b[32m     28\u001b[39m     \u001b[38;5;66;03m# Step 1: Load raw data\u001b[39;00m\n\u001b[32m     29\u001b[39m     fraud_df = pd.read_csv(\u001b[33m'\u001b[39m\u001b[33mdata/raw/Fraud_Data.csv\u001b[39m\u001b[33m'\u001b[39m)\n",
      "\u001b[36mFile \u001b[39m\u001b[32mc:\\Users\\Yohanan\\fraud-detection\\notebooks\\src\\preprocessing\\feature_engineering.py:4\u001b[39m\n\u001b[32m      1\u001b[39m \u001b[38;5;66;03m# src/preprocessing/feature_engineering.py\u001b[39;00m\n\u001b[32m      3\u001b[39m \u001b[38;5;28;01mimport\u001b[39;00m\u001b[38;5;250m \u001b[39m\u001b[34;01mpandas\u001b[39;00m\u001b[38;5;250m \u001b[39m\u001b[38;5;28;01mas\u001b[39;00m\u001b[38;5;250m \u001b[39m\u001b[34;01mpd\u001b[39;00m\n\u001b[32m----> \u001b[39m\u001b[32m4\u001b[39m \u001b[38;5;28;01mfrom\u001b[39;00m\u001b[38;5;250m \u001b[39m\u001b[34;01msrc\u001b[39;00m\u001b[34;01m.\u001b[39;00m\u001b[34;01mutils\u001b[39;00m\u001b[34;01m.\u001b[39;00m\u001b[34;01mip_converter\u001b[39;00m\u001b[38;5;250m \u001b[39m\u001b[38;5;28;01mimport\u001b[39;00m ip_to_int\n\u001b[32m      6\u001b[39m \u001b[38;5;28;01mdef\u001b[39;00m\u001b[38;5;250m \u001b[39m\u001b[34madd_features\u001b[39m(df: pd.DataFrame, ip_df: pd.DataFrame) -> pd.DataFrame:\n\u001b[32m      7\u001b[39m \u001b[38;5;250m    \u001b[39m\u001b[33;03m\"\"\"\u001b[39;00m\n\u001b[32m      8\u001b[39m \u001b[33;03m    Perform feature engineering:\u001b[39;00m\n\u001b[32m      9\u001b[39m \u001b[33;03m    - Convert IPs\u001b[39;00m\n\u001b[32m   (...)\u001b[39m\u001b[32m     12\u001b[39m \u001b[33;03m    - Compute velocity and frequency\u001b[39;00m\n\u001b[32m     13\u001b[39m \u001b[33;03m    \"\"\"\u001b[39;00m\n",
      "\u001b[31mModuleNotFoundError\u001b[39m: No module named 'src.utils.ip_converter'"
     ]
    }
   ],
   "source": [
    "# pipeline.py\n",
    "%pip install pandas scikit-learn numpy\n",
    "import pandas as pd\n",
    "import sys\n",
    "import os\n",
    "import sys\n",
    "import os\n",
    "\n",
    "# Define src_path as the absolute path to the src directory\n",
    "src = os.path.abspath(os.path.join(os.getcwd(), '..', 'src'))\n",
    "\n",
    "# Use the already defined src_path variable if available\n",
    "try:\n",
    "    src_path\n",
    "except NameError:\n",
    "    src_path = src\n",
    "\n",
    "if src_path not in sys.path:\n",
    "    sys.path.insert(0, src_path)\n",
    "\n",
    "from src.preprocessing import (\n",
    "    missing_values,\n",
    "    data_cleaning,\n",
    "    feature_engineering,\n",
    "    data_transformation\n",
    ")\n",
    "def main():\n",
    "    # Step 1: Load raw data\n",
    "    fraud_df = pd.read_csv('data/raw/Fraud_Data.csv')\n",
    "    ip_df = pd.read_csv('data/raw/IpAddress_to_Country.csv')\n",
    "    \n",
    "    # Step 2: Handle missing values\n",
    "    fraud_df = missing_values.handle(fraud_df)\n",
    "    \n",
    "    # Step 3: Clean the data\n",
    "    fraud_df = data_cleaning.clean(fraud_df)\n",
    "    \n",
    "    # Step 4: Feature engineering (IP merge, time-based features, etc.)\n",
    "    fraud_df = feature_engineering.add_features(fraud_df, ip_df)\n",
    "    \n",
    "    # Step 5: Transform data (scaling, encoding, class balancing, split)\n",
    "    X_train, y_train, X_test, y_test = data_transformation.transform(fraud_df)\n",
    "    \n",
    "    # Optional: Save intermediate outputs\n",
    "    pd.DataFrame(X_train).to_csv('data/processed/X_train_resampled.csv', index=False)\n",
    "    pd.DataFrame(X_test).to_csv('data/processed/X_test.csv', index=False)\n",
    "    pd.Series(y_train).to_csv('data/processed/y_train.csv', index=False)\n",
    "    pd.Series(y_test).to_csv('data/processed/y_test.csv', index=False)\n",
    "\n",
    "    print(\"\\n Task 1 completed successfully.\")\n",
    "\n",
    "if __name__ == '__main__':\n",
    "    main()\n"
   ]
  }
 ],
 "metadata": {
  "kernelspec": {
   "display_name": ".venv",
   "language": "python",
   "name": "python3"
  },
  "language_info": {
   "codemirror_mode": {
    "name": "ipython",
    "version": 3
   },
   "file_extension": ".py",
   "mimetype": "text/x-python",
   "name": "python",
   "nbconvert_exporter": "python",
   "pygments_lexer": "ipython3",
   "version": "3.13.3"
  }
 },
 "nbformat": 4,
 "nbformat_minor": 5
}
