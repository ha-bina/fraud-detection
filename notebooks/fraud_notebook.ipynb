{
 "cells": [
  {
   "cell_type": "code",
   "execution_count": 22,
   "id": "9587bf2e",
   "metadata": {},
   "outputs": [
    {
     "name": "stdout",
     "output_type": "stream",
     "text": [
      "Requirement already satisfied: pandas in c:\\users\\yohanan\\fraud-detection\\.venv\\lib\\site-packages (2.3.1)\n",
      "Requirement already satisfied: scikit-learn in c:\\users\\yohanan\\fraud-detection\\.venv\\lib\\site-packages (1.6.1)\n",
      "Requirement already satisfied: numpy in c:\\users\\yohanan\\fraud-detection\\.venv\\lib\\site-packages (2.3.1)\n",
      "Requirement already satisfied: imblearn in c:\\users\\yohanan\\fraud-detection\\.venv\\lib\\site-packages (0.0)\n",
      "Requirement already satisfied: python-dateutil>=2.8.2 in c:\\users\\yohanan\\fraud-detection\\.venv\\lib\\site-packages (from pandas) (2.9.0.post0)\n",
      "Requirement already satisfied: pytz>=2020.1 in c:\\users\\yohanan\\fraud-detection\\.venv\\lib\\site-packages (from pandas) (2025.2)\n",
      "Requirement already satisfied: tzdata>=2022.7 in c:\\users\\yohanan\\fraud-detection\\.venv\\lib\\site-packages (from pandas) (2025.2)\n",
      "Requirement already satisfied: scipy>=1.6.0 in c:\\users\\yohanan\\fraud-detection\\.venv\\lib\\site-packages (from scikit-learn) (1.16.0)\n",
      "Requirement already satisfied: joblib>=1.2.0 in c:\\users\\yohanan\\fraud-detection\\.venv\\lib\\site-packages (from scikit-learn) (1.5.1)\n",
      "Requirement already satisfied: threadpoolctl>=3.1.0 in c:\\users\\yohanan\\fraud-detection\\.venv\\lib\\site-packages (from scikit-learn) (3.6.0)\n",
      "Requirement already satisfied: imbalanced-learn in c:\\users\\yohanan\\fraud-detection\\.venv\\lib\\site-packages (from imblearn) (0.13.0)\n",
      "Requirement already satisfied: six>=1.5 in c:\\users\\yohanan\\fraud-detection\\.venv\\lib\\site-packages (from python-dateutil>=2.8.2->pandas) (1.17.0)\n",
      "Requirement already satisfied: sklearn-compat<1,>=0.1 in c:\\users\\yohanan\\fraud-detection\\.venv\\lib\\site-packages (from imbalanced-learn->imblearn) (0.1.3)\n",
      "Note: you may need to restart the kernel to use updated packages.\n"
     ]
    },
    {
     "ename": "NameError",
     "evalue": "name 'safe_split_ip' is not defined",
     "output_type": "error",
     "traceback": [
      "\u001b[31m---------------------------------------------------------------------------\u001b[39m",
      "\u001b[31mNameError\u001b[39m                                 Traceback (most recent call last)",
      "\u001b[36mCell\u001b[39m\u001b[36m \u001b[39m\u001b[32mIn[22]\u001b[39m\u001b[32m, line 56\u001b[39m\n\u001b[32m     53\u001b[39m     \u001b[38;5;28mprint\u001b[39m(\u001b[33m\"\u001b[39m\u001b[38;5;130;01m\\n\u001b[39;00m\u001b[33m Task 1 completed successfully.\u001b[39m\u001b[33m\"\u001b[39m)\n\u001b[32m     55\u001b[39m \u001b[38;5;28;01mif\u001b[39;00m \u001b[34m__name__\u001b[39m == \u001b[33m'\u001b[39m\u001b[33m__main__\u001b[39m\u001b[33m'\u001b[39m:\n\u001b[32m---> \u001b[39m\u001b[32m56\u001b[39m     \u001b[43mmain\u001b[49m\u001b[43m(\u001b[49m\u001b[43m)\u001b[49m\n",
      "\u001b[36mCell\u001b[39m\u001b[36m \u001b[39m\u001b[32mIn[22]\u001b[39m\u001b[32m, line 32\u001b[39m, in \u001b[36mmain\u001b[39m\u001b[34m()\u001b[39m\n\u001b[32m     29\u001b[39m     \u001b[38;5;28;01melse\u001b[39;00m:\n\u001b[32m     30\u001b[39m         \u001b[38;5;28;01mreturn\u001b[39;00m x_str  \u001b[38;5;66;03m# Return as is if no dot (e.g., integer IPs or malformed)\u001b[39;00m\n\u001b[32m---> \u001b[39m\u001b[32m32\u001b[39m fraud_df[\u001b[33m'\u001b[39m\u001b[33mip_first_octet\u001b[39m\u001b[33m'\u001b[39m] = fraud_df[\u001b[33m'\u001b[39m\u001b[33mip_address\u001b[39m\u001b[33m'\u001b[39m].apply(\u001b[43msafe_split_ip\u001b[49m)\n\u001b[32m     33\u001b[39m \u001b[38;5;66;03m# ... rest of your feature engineering code ...\u001b[39;00m\n\u001b[32m     34\u001b[39m \u001b[38;5;28;01mreturn\u001b[39;00m fraud_df \n",
      "\u001b[31mNameError\u001b[39m: name 'safe_split_ip' is not defined"
     ]
    }
   ],
   "source": [
    "# pipeline.py\n",
    "%pip install pandas scikit-learn numpy imblearn\n",
    "import pandas as pd\n",
    "import sys\n",
    "import os\n",
    "\n",
    "# Add the src directory to sys.path so that src.utils.ip_converter and other modules can be imported\n",
    "sys.path.append(os.path.abspath(os.path.join(os.getcwd(), '..', 'src')))\n",
    "\n",
    "\n",
    "from src.preprocessing import (    missing_values,    data_cleaning,   feature_engineering,\n",
    "    data_transformation )\n",
    "def main():\n",
    "    # Step 1: Load raw data\n",
    "    fraud_df = pd.read_csv('C:/Users/Yohanan/fraud-detection/data/raw/Fraud_Data.csv')\n",
    "    ip_df = pd.read_csv('C:/Users/Yohanan/fraud-detection/data/raw/IpAddress_to_Country.csv')\n",
    "    def add_features(fraud_df, ip_df):\n",
    "    # Example: Extract first octet from IP address, handle non-string values safely\n",
    "      def safe_split_ip(x):\n",
    "        if pd.isnull(x):\n",
    "            return None\n",
    "        try:\n",
    "            x_str = str(int(x)) if isinstance(x, float) and x.is_integer() else str(x)\n",
    "        except Exception:\n",
    "            x_str = str(x)\n",
    "        # Now, check if x_str looks like an IP address (contains '.')\n",
    "        if '.' in x_str:\n",
    "            return x_str.split('.')[0]\n",
    "        else:\n",
    "            return x_str  # Return as is if no dot (e.g., integer IPs or malformed)\n",
    "\n",
    "    fraud_df['ip_first_octet'] = fraud_df['ip_address'].apply(safe_split_ip)\n",
    "    # ... rest of your feature engineering code ...\n",
    "    return fraud_df \n",
    "    # Step 2: Handle missing values\n",
    "    fraud_df = missing_values.handle(fraud_df)\n",
    "    \n",
    "    # Step 3: Clean the data\n",
    "    fraud_df = data_cleaning.clean(fraud_df)\n",
    "    \n",
    "    # Step 4: Feature engineering (IP merge, time-based features, etc.)\n",
    "    fraud_df = feature_engineering.add_features(fraud_df, ip_df)\n",
    "    \n",
    "    # Step 5: Transform data (scaling, encoding, class balancing, split)\n",
    "    X_train, y_train, X_test, y_test = data_transformation.transform(fraud_df)\n",
    "    \n",
    "    # Optional: Save intermediate outputs\n",
    "    pd.DataFrame(X_train).to_csv('data/processed/X_train_resampled.csv', index=False)\n",
    "    pd.DataFrame(X_test).to_csv('data/processed/X_test.csv', index=False)\n",
    "    pd.Series(y_train).to_csv('data/processed/y_train.csv', index=False)\n",
    "    pd.Series(y_test).to_csv('data/processed/y_test.csv', index=False)\n",
    "\n",
    "    print(\"\\n Task 1 completed successfully.\")\n",
    "\n",
    "if __name__ == '__main__':\n",
    "    main()\n"
   ]
  }
 ],
 "metadata": {
  "kernelspec": {
   "display_name": ".venv",
   "language": "python",
   "name": "python3"
  },
  "language_info": {
   "codemirror_mode": {
    "name": "ipython",
    "version": 3
   },
   "file_extension": ".py",
   "mimetype": "text/x-python",
   "name": "python",
   "nbconvert_exporter": "python",
   "pygments_lexer": "ipython3",
   "version": "3.13.3"
  }
 },
 "nbformat": 4,
 "nbformat_minor": 5
}
